{
 "cells": [
  {
   "metadata": {
    "ExecuteTime": {
     "end_time": "2025-02-07T22:15:51.506509Z",
     "start_time": "2025-02-07T22:15:51.499972Z"
    }
   },
   "cell_type": "code",
   "source": [
    "import polars as pl\n",
    "from schema import *\n",
    "operations = pl.read_parquet(\"operations.parquet\").sort(datetime_cn).with_columns(pl.col(amount_cn).cum_sum().alias(amount_cum_sum_cn)).with_columns(\n",
    "    pl.col(amount_cn).cast(pl.Float64),\n",
    "    pl.col(amount_cum_sum_cn).cast(pl.Float64),\n",
    ")\n",
    "operations"
   ],
   "id": "initial_id",
   "outputs": [
    {
     "data": {
      "text/plain": [
       "shape: (7, 7)\n",
       "┌─────────────────┬─────────┬────────────────┬──────┬────────────┬────────────────┬────────────────┐\n",
       "│ datetime        ┆ amount  ┆ description    ┆ debt ┆ ope_source ┆ ope_type       ┆ amount_cum_sum │\n",
       "│ ---             ┆ ---     ┆ ---            ┆ ---  ┆ ---        ┆ ---            ┆ ---            │\n",
       "│ datetime[μs]    ┆ f64     ┆ str            ┆ i64  ┆ str        ┆ str            ┆ f64            │\n",
       "╞═════════════════╪═════════╪════════════════╪══════╪════════════╪════════════════╪════════════════╡\n",
       "│ 2024-12-15      ┆ 5000.0  ┆ Credit card    ┆ 0    ┆ loan       ┆ deposit        ┆ 5000.0         │\n",
       "│ 00:00:00        ┆         ┆ 1243           ┆      ┆            ┆                ┆                │\n",
       "│ 2024-12-20      ┆ 25000.0 ┆ Credit card    ┆ 0    ┆ loan       ┆ down payment   ┆ 30000.0        │\n",
       "│ 00:00:00        ┆         ┆ 1243           ┆      ┆            ┆                ┆                │\n",
       "│ 2024-12-20      ┆ 86000.0 ┆ Bank transfer  ┆ 0    ┆ loan       ┆ down payment   ┆ 116000.0       │\n",
       "│ 00:00:00        ┆         ┆                ┆      ┆            ┆                ┆                │\n",
       "│ 2025-01-16      ┆ -622.39 ┆ Intereses no   ┆ null ┆ loan       ┆ monthly_intere ┆ 115377.61      │\n",
       "│ 00:00:00        ┆         ┆ reales         ┆      ┆            ┆ sts            ┆                │\n",
       "│ 2025-01-16      ┆ -252.82 ┆ Intereses      ┆ null ┆ loan       ┆ monthly_intere ┆ 115124.79      │\n",
       "│ 00:00:00        ┆         ┆                ┆      ┆            ┆ sts            ┆                │\n",
       "│ 2025-01-16      ┆ 3075.47 ┆ null           ┆ null ┆ loan       ┆ monthly_paymen ┆ 118200.26      │\n",
       "│ 00:00:00        ┆         ┆                ┆      ┆            ┆ t              ┆                │\n",
       "│ 2025-01-20      ┆ -2200.0 ┆ null           ┆ null ┆ busyness   ┆ maintenance    ┆ 116000.26      │\n",
       "│ 00:00:00        ┆         ┆                ┆      ┆            ┆                ┆                │\n",
       "└─────────────────┴─────────┴────────────────┴──────┴────────────┴────────────────┴────────────────┘"
      ],
      "text/html": [
       "<div><style>\n",
       ".dataframe > thead > tr,\n",
       ".dataframe > tbody > tr {\n",
       "  text-align: right;\n",
       "  white-space: pre-wrap;\n",
       "}\n",
       "</style>\n",
       "<small>shape: (7, 7)</small><table border=\"1\" class=\"dataframe\"><thead><tr><th>datetime</th><th>amount</th><th>description</th><th>debt</th><th>ope_source</th><th>ope_type</th><th>amount_cum_sum</th></tr><tr><td>datetime[μs]</td><td>f64</td><td>str</td><td>i64</td><td>str</td><td>str</td><td>f64</td></tr></thead><tbody><tr><td>2024-12-15 00:00:00</td><td>5000.0</td><td>&quot;Credit card 1243&quot;</td><td>0</td><td>&quot;loan&quot;</td><td>&quot;deposit&quot;</td><td>5000.0</td></tr><tr><td>2024-12-20 00:00:00</td><td>25000.0</td><td>&quot;Credit card 1243&quot;</td><td>0</td><td>&quot;loan&quot;</td><td>&quot;down payment&quot;</td><td>30000.0</td></tr><tr><td>2024-12-20 00:00:00</td><td>86000.0</td><td>&quot;Bank transfer&quot;</td><td>0</td><td>&quot;loan&quot;</td><td>&quot;down payment&quot;</td><td>116000.0</td></tr><tr><td>2025-01-16 00:00:00</td><td>-622.39</td><td>&quot;Intereses no reales&quot;</td><td>null</td><td>&quot;loan&quot;</td><td>&quot;monthly_interests&quot;</td><td>115377.61</td></tr><tr><td>2025-01-16 00:00:00</td><td>-252.82</td><td>&quot;Intereses&quot;</td><td>null</td><td>&quot;loan&quot;</td><td>&quot;monthly_interests&quot;</td><td>115124.79</td></tr><tr><td>2025-01-16 00:00:00</td><td>3075.47</td><td>null</td><td>null</td><td>&quot;loan&quot;</td><td>&quot;monthly_payment&quot;</td><td>118200.26</td></tr><tr><td>2025-01-20 00:00:00</td><td>-2200.0</td><td>null</td><td>null</td><td>&quot;busyness&quot;</td><td>&quot;maintenance&quot;</td><td>116000.26</td></tr></tbody></table></div>"
      ]
     },
     "execution_count": 2,
     "metadata": {},
     "output_type": "execute_result"
    }
   ],
   "execution_count": 2
  },
  {
   "metadata": {
    "ExecuteTime": {
     "end_time": "2025-02-07T22:15:31.536315Z",
     "start_time": "2025-02-07T22:15:31.528115Z"
    }
   },
   "cell_type": "code",
   "source": [
    "# from datetime import datetime\n",
    "# from schema import *\n",
    "#\n",
    "# pl.concat([operations, pl.DataFrame([\n",
    "#     {\n",
    "#         datetime_cn: datetime(year=2025, month=1, day=16),\n",
    "#         amount_cn: -622.39,\n",
    "#         description_cn: \"Intereses no reales\",\n",
    "#         debt_cn: None,\n",
    "#         ope_source_cn: ope_source_loan_cv,\n",
    "#         ope_type_cn: monthly_interests_cv,\n",
    "#         amount_cum_sum_cn: 0.0,\n",
    "#     },\n",
    "#     {\n",
    "#         datetime_cn: datetime(year=2025, month=1, day=16),\n",
    "#         amount_cn: -301.00 + 48.18,\n",
    "#         description_cn: \"Intereses\",\n",
    "#         debt_cn: None,\n",
    "#         ope_source_cn: ope_source_loan_cv,\n",
    "#         ope_type_cn: monthly_interests_cv,\n",
    "#         amount_cum_sum_cn: 0.0,\n",
    "#     },\n",
    "#     {\n",
    "#         datetime_cn: datetime(year=2025, month=1, day=16),\n",
    "#         amount_cn: 3_075.47,\n",
    "#         description_cn: None,\n",
    "#         debt_cn: None,\n",
    "#         ope_source_cn: ope_source_loan_cv,\n",
    "#         ope_type_cn: monthly_payment_cv,\n",
    "#         amount_cum_sum_cn: 0.0,\n",
    "#     },\n",
    "#     {\n",
    "#         datetime_cn: datetime(year=2025, month=1, day=20),\n",
    "#         amount_cn: -2_200.00,\n",
    "#         description_cn: None,\n",
    "#         debt_cn: None,\n",
    "#         ope_source_cn: ope_source_busyness_cv,\n",
    "#         ope_type_cn: maintenance_cv,\n",
    "#         amount_cum_sum_cn: 0.0,\n",
    "#     }\n",
    "# ])]).drop(amount_cum_sum_cn).sort(datetime_cn).write_parquet(\"operations.parquet\")"
   ],
   "id": "a3e3ec1c41c84766",
   "outputs": [],
   "execution_count": 4
  },
  {
   "metadata": {
    "ExecuteTime": {
     "end_time": "2025-02-07T22:14:13.879889Z",
     "start_time": "2025-02-07T22:14:13.878640Z"
    }
   },
   "cell_type": "code",
   "source": "",
   "id": "44b010fed4602503",
   "outputs": [],
   "execution_count": null
  },
  {
   "metadata": {
    "ExecuteTime": {
     "end_time": "2025-02-07T22:14:13.905234Z",
     "start_time": "2025-02-07T22:14:13.904031Z"
    }
   },
   "cell_type": "code",
   "source": "",
   "id": "ad9f9017494f50ea",
   "outputs": [],
   "execution_count": null
  }
 ],
 "metadata": {
  "kernelspec": {
   "display_name": "I3",
   "language": "python",
   "name": "i3"
  },
  "language_info": {
   "codemirror_mode": {
    "name": "ipython",
    "version": 3
   },
   "file_extension": ".py",
   "mimetype": "text/x-python",
   "name": "python",
   "nbconvert_exporter": "python",
   "pygments_lexer": "ipython3",
   "version": "3.12.7"
  }
 },
 "nbformat": 4,
 "nbformat_minor": 5
}
